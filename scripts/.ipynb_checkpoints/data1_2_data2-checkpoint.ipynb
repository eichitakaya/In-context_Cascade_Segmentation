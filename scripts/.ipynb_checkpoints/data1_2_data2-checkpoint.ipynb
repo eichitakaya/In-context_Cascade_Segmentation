{
 "cells": [
  {
   "cell_type": "markdown",
   "metadata": {
    "id": "vdS4Btm9zwXl"
   },
   "source": [
    "# .から始まるファイルの削除"
   ]
  },
  {
   "cell_type": "code",
   "execution_count": 1,
   "metadata": {
    "colab": {
     "base_uri": "https://localhost:8080/"
    },
    "id": "xFiT8Kw8v-2J",
    "outputId": "279f6764-eb34-49e2-bbdf-0f3e283bf758"
   },
   "outputs": [
    {
     "name": "stdout",
     "output_type": "stream",
     "text": [
      "コピーが完了しました。\n",
      "コピーが完了しました。\n",
      "コピーが完了しました。\n",
      "コピーが完了しました。\n",
      "コピーが完了しました。\n",
      "コピーが完了しました。\n"
     ]
    }
   ],
   "source": [
    "import os\n",
    "import shutil\n",
    "\n",
    "organs = [\"Task02_Heart\", \"Task04_Hippocampus\", \"Task05_Prostate\"]\n",
    "subfolders = ['imagesTr', 'labelsTr']\n",
    "\n",
    "for n in range(len(organs)):\n",
    "    for subfolder in subfolders:\n",
    "        base_folder = '../data1_need/' + organs[n]\n",
    "        source_folder = os.path.join(base_folder, subfolder)\n",
    "\n",
    "        # フォルダーBのパス\n",
    "        destination_folder = '../data2_delete_period/' + organs[n]\n",
    "        destination_folder = os.path.join(destination_folder, subfolder)\n",
    "\n",
    "        # フォルダーBが存在しない場合は作成\n",
    "        if not os.path.exists(destination_folder):\n",
    "            os.makedirs(destination_folder)\n",
    "\n",
    "        # フォルダーAのファイルを列挙\n",
    "        for file_name in os.listdir(source_folder):\n",
    "            # ファイル名がピリオドで始まる場合はスキップ\n",
    "            if file_name.startswith('.'):\n",
    "                continue\n",
    "\n",
    "            # フルパスを生成\n",
    "            source_path = os.path.join(source_folder, file_name)\n",
    "            destination_path = os.path.join(destination_folder, file_name)\n",
    "\n",
    "            # ファイルをコピー\n",
    "            shutil.copy2(source_path, destination_path)\n",
    "\n",
    "        print(\"コピーが完了しました。\")"
   ]
  },
  {
   "cell_type": "markdown",
   "metadata": {
    "id": "lm_Z5TVrzs2D"
   },
   "source": [
    "# ファイル数の確認　imagesTrとlabelsTrの後ろの数字があっていればOK"
   ]
  },
  {
   "cell_type": "code",
   "execution_count": 2,
   "metadata": {
    "colab": {
     "base_uri": "https://localhost:8080/"
    },
    "id": "t7Z6axJ3xx1V",
    "outputId": "37a54459-78e6-42be-8537-e31fa3234d71"
   },
   "outputs": [
    {
     "name": "stdout",
     "output_type": "stream",
     "text": [
      "Task02_Heart imagesTr\n",
      "21 20\n",
      "Task02_Heart labelsTr\n",
      "22 20\n",
      "Task04_Hippocampus imagesTr\n",
      "261 260\n",
      "Task04_Hippocampus labelsTr\n",
      "264 260\n",
      "Task05_Prostate imagesTr\n",
      "33 32\n",
      "Task05_Prostate labelsTr\n",
      "35 32\n"
     ]
    }
   ],
   "source": [
    "import os\n",
    "import nibabel as nib\n",
    "\n",
    "organs = [\"Task02_Heart\", \"Task04_Hippocampus\", \"Task05_Prostate\"]\n",
    "subfolders = ['imagesTr', 'labelsTr']\n",
    "\n",
    "for n in range(len(organs)):\n",
    "    for subfolder in subfolders:\n",
    "      base_folder = \"../data0_original/\" + organs[n]\n",
    "      folder_path = os.path.join(base_folder, subfolder)\n",
    "      files0 = sorted(os.listdir(folder_path))  # ファイルリストを昇順にソート\n",
    "\n",
    "      base_folder = \"../data2_delete_period/\" + organs[n]\n",
    "      folder_path = os.path.join(base_folder, subfolder)\n",
    "      files1 = sorted(os.listdir(folder_path))  # ファイルリストを昇順にソート\n",
    "\n",
    "      print(organs[n], subfolder)\n",
    "      print(len(files0), len(files1))"
   ]
  },
  {
   "cell_type": "code",
   "execution_count": null,
   "metadata": {
    "id": "DCLk6O3izlDT"
   },
   "outputs": [],
   "source": []
  }
 ],
 "metadata": {
  "colab": {
   "provenance": []
  },
  "kernelspec": {
   "display_name": "Python 3 (ipykernel)",
   "language": "python",
   "name": "python3"
  },
  "language_info": {
   "codemirror_mode": {
    "name": "ipython",
    "version": 3
   },
   "file_extension": ".py",
   "mimetype": "text/x-python",
   "name": "python",
   "nbconvert_exporter": "python",
   "pygments_lexer": "ipython3",
   "version": "3.10.8"
  }
 },
 "nbformat": 4,
 "nbformat_minor": 4
}
