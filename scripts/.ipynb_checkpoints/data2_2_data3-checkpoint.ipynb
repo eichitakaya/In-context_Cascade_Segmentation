{
 "cells": [
  {
   "cell_type": "markdown",
   "metadata": {
    "id": "p_Wlg-Mf2slI"
   },
   "source": [
    "# FloatTensor + (N, 1, A, B)の形式へ変換"
   ]
  },
  {
   "cell_type": "code",
   "execution_count": 1,
   "metadata": {
    "colab": {
     "base_uri": "https://localhost:8080/"
    },
    "id": "8qTqdfvV1g9I",
    "outputId": "1f470814-b239-4617-c544-630386c080b1"
   },
   "outputs": [
    {
     "name": "stdout",
     "output_type": "stream",
     "text": [
      "コピーが完了しました。\n",
      "コピーが完了しました。\n",
      "コピーが完了しました。\n",
      "コピーが完了しました。\n",
      "コピーが完了しました。\n",
      "コピーが完了しました。\n"
     ]
    }
   ],
   "source": [
    "import os\n",
    "import shutil\n",
    "import nibabel as nib\n",
    "import torch\n",
    "\n",
    "organs = [\"Task02_Heart\", \"Task04_Hippocampus\", \"Task05_Prostate\"]\n",
    "subfolders = ['imagesTr', 'labelsTr']\n",
    "\n",
    "for n in range(len(organs)):\n",
    "    for subfolder in subfolders:\n",
    "        base_folder = \"../data2_delete_period/\" + organs[n]\n",
    "        source_folder = os.path.join(base_folder, subfolder)\n",
    "\n",
    "        # フォルダーBのパス\n",
    "        destination_folder = \"../data3_FloatTensor/\" + organs[n]\n",
    "        destination_folder = os.path.join(destination_folder, subfolder)\n",
    "\n",
    "        # フォルダーBが存在しない場合は作成\n",
    "        if not os.path.exists(destination_folder):\n",
    "            os.makedirs(destination_folder)\n",
    "\n",
    "        # フォルダーAのファイルを列挙\n",
    "        for file_name in os.listdir(source_folder):\n",
    "            # フルパスを生成\n",
    "            source_path = os.path.join(source_folder, file_name)\n",
    "            destination_path = os.path.join(destination_folder, file_name[:-6]+\"pt\")\n",
    "\n",
    "            nii = nib.load(source_path)\n",
    "            data = nii.get_fdata()\n",
    "            tensor = torch.from_numpy(data)\n",
    "            tensor = tensor.permute(2, 0, 1)\n",
    "            tensor = tensor.unsqueeze(1)  # [N, 1, A, B] 形式に変更\n",
    "            if torch.cuda.is_available():\n",
    "                tensor = tensor.cuda()\n",
    "            # print(destination_path)\n",
    "            torch.save(tensor, destination_path)\n",
    "\n",
    "        print(\"コピーが完了しました。\")"
   ]
  },
  {
   "cell_type": "markdown",
   "metadata": {
    "id": "mN-htYQQ2oL4"
   },
   "source": [
    "# 念のためのファイル数の確認"
   ]
  },
  {
   "cell_type": "code",
   "execution_count": 2,
   "metadata": {
    "colab": {
     "base_uri": "https://localhost:8080/"
    },
    "id": "_pOhkgSv2KXP",
    "outputId": "964cf4df-d0ce-43a0-cdb5-8aee6ca82de9"
   },
   "outputs": [
    {
     "name": "stdout",
     "output_type": "stream",
     "text": [
      "Task02_Heart imagesTr\n",
      "21 20 20\n",
      "Task02_Heart labelsTr\n",
      "22 20 20\n",
      "Task04_Hippocampus imagesTr\n",
      "261 260 260\n",
      "Task04_Hippocampus labelsTr\n",
      "264 260 260\n",
      "Task05_Prostate imagesTr\n",
      "33 32 32\n",
      "Task05_Prostate labelsTr\n",
      "35 32 32\n"
     ]
    }
   ],
   "source": [
    "import os\n",
    "import nibabel as nib\n",
    "\n",
    "organs = [\"Task02_Heart\", \"Task04_Hippocampus\", \"Task05_Prostate\"]\n",
    "subfolders = ['imagesTr', 'labelsTr']\n",
    "\n",
    "for n in range(len(organs)):\n",
    "    for subfolder in subfolders:\n",
    "      base_folder = \"../data0_original/\" + organs[n]\n",
    "      folder_path = os.path.join(base_folder, subfolder)\n",
    "      files0 = sorted(os.listdir(folder_path))  # ファイルリストを昇順にソート\n",
    "\n",
    "      base_folder = \"../data2_delete_period/\" + organs[n]\n",
    "      folder_path = os.path.join(base_folder, subfolder)\n",
    "      files1 = sorted(os.listdir(folder_path))  # ファイルリストを昇順にソート\n",
    "\n",
    "      base_folder = \"../data3_FloatTensor/\" + organs[n]\n",
    "      folder_path = os.path.join(base_folder, subfolder)\n",
    "      files2 = sorted(os.listdir(folder_path))  # ファイルリストを昇順にソート\n",
    "\n",
    "      print(organs[n], subfolder)\n",
    "      print(len(files0), len(files1), len(files2))"
   ]
  },
  {
   "cell_type": "code",
   "execution_count": null,
   "metadata": {},
   "outputs": [],
   "source": []
  }
 ],
 "metadata": {
  "colab": {
   "provenance": []
  },
  "kernelspec": {
   "display_name": "Python 3 (ipykernel)",
   "language": "python",
   "name": "python3"
  },
  "language_info": {
   "codemirror_mode": {
    "name": "ipython",
    "version": 3
   },
   "file_extension": ".py",
   "mimetype": "text/x-python",
   "name": "python",
   "nbconvert_exporter": "python",
   "pygments_lexer": "ipython3",
   "version": "3.10.8"
  }
 },
 "nbformat": 4,
 "nbformat_minor": 4
}
