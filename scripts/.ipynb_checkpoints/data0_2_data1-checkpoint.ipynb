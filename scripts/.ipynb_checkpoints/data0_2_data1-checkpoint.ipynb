{
 "cells": [
  {
   "cell_type": "code",
   "execution_count": 7,
   "metadata": {
    "colab": {
     "base_uri": "https://localhost:8080/"
    },
    "id": "ia_7HM1SmMfr",
    "outputId": "508a97b3-84bf-4602-913a-db0fab354ab1"
   },
   "outputs": [
    {
     "name": "stdout",
     "output_type": "stream",
     "text": [
      "\u001b[33mWARNING: Running pip as the 'root' user can result in broken permissions and conflicting behaviour with the system package manager. It is recommended to use a virtual environment instead: https://pip.pypa.io/warnings/venv\u001b[0m\u001b[33m\n",
      "\u001b[0m\u001b[33mWARNING: There was an error checking the latest version of pip.\u001b[0m\u001b[33m\n",
      "\u001b[0m"
     ]
    }
   ],
   "source": [
    "!pip install -q --proxy=http://proxy.l2.med.tohoku.ac.jp:8080 nibabel matplotlib"
   ]
  },
  {
   "cell_type": "markdown",
   "metadata": {
    "id": "lRHFpUyJmeE5"
   },
   "source": [
    "# Heart"
   ]
  },
  {
   "cell_type": "code",
   "execution_count": 8,
   "metadata": {
    "colab": {
     "base_uri": "https://localhost:8080/"
    },
    "id": "rVv2QEDtmENH",
    "outputId": "5c910745-9730-48df-fb09-895301433cfd"
   },
   "outputs": [
    {
     "name": "stdout",
     "output_type": "stream",
     "text": [
      "コピーが完了しました。\n"
     ]
    }
   ],
   "source": [
    "import shutil\n",
    "import os\n",
    "\n",
    "# コピー元のディレクトリ\n",
    "source_dir = '../data0_original/Task02_Heart'\n",
    "\n",
    "# コピー先のディレクトリ\n",
    "target_dir = '../data1_need/Task02_Heart'\n",
    "\n",
    "# コピーするディレクトリ名\n",
    "directories_to_copy = ['imagesTr', 'labelsTr']\n",
    "\n",
    "# 各ディレクトリをコピー\n",
    "for directory in directories_to_copy:\n",
    "    source_path = os.path.join(source_dir, directory)\n",
    "    target_path = os.path.join(target_dir, directory)\n",
    "\n",
    "    # コピー先のディレクトリが既に存在する場合は削除\n",
    "    if os.path.exists(target_path):\n",
    "        shutil.rmtree(target_path)\n",
    "\n",
    "    # ディレクトリをコピー\n",
    "    shutil.copytree(source_path, target_path)\n",
    "\n",
    "print(\"コピーが完了しました。\")\n"
   ]
  },
  {
   "cell_type": "markdown",
   "metadata": {
    "id": "WVcN1kIRnPEF"
   },
   "source": [
    "# Hippocampus"
   ]
  },
  {
   "cell_type": "code",
   "execution_count": 9,
   "metadata": {
    "colab": {
     "base_uri": "https://localhost:8080/"
    },
    "id": "2LM-IJ52mjot",
    "outputId": "5aaae8e7-2b2c-4b25-e7cc-84d13a54812d"
   },
   "outputs": [
    {
     "name": "stdout",
     "output_type": "stream",
     "text": [
      "コピーが完了しました。\n"
     ]
    }
   ],
   "source": [
    "import shutil\n",
    "import os\n",
    "\n",
    "# コピー元のディレクトリ\n",
    "source_dir = '../data0_original/Task04_Hippocampus'\n",
    "\n",
    "# コピー先のディレクトリ\n",
    "target_dir = '../data1_need/Task04_Hippocampus'\n",
    "\n",
    "# コピーするディレクトリ名\n",
    "directories_to_copy = ['imagesTr', 'labelsTr']\n",
    "\n",
    "# 各ディレクトリをコピー\n",
    "for directory in directories_to_copy:\n",
    "    source_path = os.path.join(source_dir, directory)\n",
    "    target_path = os.path.join(target_dir, directory)\n",
    "\n",
    "    # コピー先のディレクトリが既に存在する場合は削除\n",
    "    if os.path.exists(target_path):\n",
    "        shutil.rmtree(target_path)\n",
    "\n",
    "    # ディレクトリをコピー\n",
    "    shutil.copytree(source_path, target_path)\n",
    "\n",
    "print(\"コピーが完了しました。\")\n"
   ]
  },
  {
   "cell_type": "markdown",
   "metadata": {
    "id": "Jyov4iMNn0Gz"
   },
   "source": [
    "# Prostate"
   ]
  },
  {
   "cell_type": "markdown",
   "metadata": {
    "id": "NMMNBAYophTj"
   },
   "source": [
    "imagesTrはADCを捨てる"
   ]
  },
  {
   "cell_type": "code",
   "execution_count": 15,
   "metadata": {
    "id": "Q1voFB10nR9p"
   },
   "outputs": [],
   "source": [
    "import os\n",
    "import nibabel as nib\n",
    "\n",
    "# Task05_Prostateフォルダのパスを指定\n",
    "subfolders = ['imagesTr']\n",
    "base_folder = \"../data0_original/Task05_Prostate\"\n",
    "output_folder = \"../data1_need/Task05_Prostate\"\n",
    "\n",
    "# 各サブフォルダ内のファイルを読み取る\n",
    "for subfolder in subfolders:\n",
    "    folder_path = os.path.join(base_folder, subfolder)\n",
    "    output_folder_path  = os.path.join(output_folder, subfolder)\n",
    "    files = sorted(os.listdir(folder_path))  # ファイルリストを昇順にソート\n",
    "\n",
    "    # .nii.gzファイルを読み取る\n",
    "    for file in files:\n",
    "        if file.endswith('.nii.gz') and not file.startswith('.'):\n",
    "            file_path = os.path.join(folder_path, file)\n",
    "            output_file_path = os.path.join(output_folder_path, file)\n",
    "            img = nib.load(file_path)\n",
    "            data = img.get_fdata()\n",
    "            data = data[:,:,:,0]\n",
    "            new_nii = nib.Nifti1Image(data, affine=img.affine)\n",
    "            nib.save(new_nii, output_file_path)"
   ]
  },
  {
   "cell_type": "markdown",
   "metadata": {
    "id": "Tto8upk2tjGd"
   },
   "source": [
    "labelsTrはそのまま"
   ]
  },
  {
   "cell_type": "code",
   "execution_count": 11,
   "metadata": {
    "colab": {
     "base_uri": "https://localhost:8080/"
    },
    "id": "CXoNzoftpUrH",
    "outputId": "91a0973d-cad8-480c-83f4-26cfa5b6af57"
   },
   "outputs": [
    {
     "name": "stdout",
     "output_type": "stream",
     "text": [
      "コピーが完了しました。\n"
     ]
    }
   ],
   "source": [
    "import shutil\n",
    "import os\n",
    "\n",
    "# コピー元のディレクトリ\n",
    "source_dir = \"../data0_original/Task05_Prostate\"\n",
    "\n",
    "# コピー先のディレクトリ\n",
    "target_dir = \"../data1_need/Task05_Prostate\"\n",
    "\n",
    "# コピーするディレクトリ名\n",
    "directories_to_copy = ['labelsTr']\n",
    "\n",
    "# 各ディレクトリをコピー\n",
    "for directory in directories_to_copy:\n",
    "    source_path = os.path.join(source_dir, directory)\n",
    "    target_path = os.path.join(target_dir, directory)\n",
    "\n",
    "    # コピー先のディレクトリが既に存在する場合は削除\n",
    "    if os.path.exists(target_path):\n",
    "        shutil.rmtree(target_path)\n",
    "\n",
    "    # ディレクトリをコピー\n",
    "    shutil.copytree(source_path, target_path)\n",
    "\n",
    "print(\"コピーが完了しました。\")"
   ]
  },
  {
   "cell_type": "code",
   "execution_count": null,
   "metadata": {
    "id": "MrshKLxGpuGb"
   },
   "outputs": [],
   "source": []
  }
 ],
 "metadata": {
  "colab": {
   "provenance": []
  },
  "kernelspec": {
   "display_name": "Python 3 (ipykernel)",
   "language": "python",
   "name": "python3"
  },
  "language_info": {
   "codemirror_mode": {
    "name": "ipython",
    "version": 3
   },
   "file_extension": ".py",
   "mimetype": "text/x-python",
   "name": "python",
   "nbconvert_exporter": "python",
   "pygments_lexer": "ipython3",
   "version": "3.10.8"
  }
 },
 "nbformat": 4,
 "nbformat_minor": 4
}
