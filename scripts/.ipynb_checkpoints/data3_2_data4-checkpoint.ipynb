{
 "cells": [
  {
   "cell_type": "code",
   "execution_count": 62,
   "id": "bb98b7bb-2d71-41bf-85f8-dd7e04b3c451",
   "metadata": {},
   "outputs": [],
   "source": [
    "import torch\n",
    "import numpy as np\n",
    "import os"
   ]
  },
  {
   "cell_type": "code",
   "execution_count": 63,
   "id": "ff611f82-6d99-407a-a592-ddf4dc0b2710",
   "metadata": {},
   "outputs": [],
   "source": [
    "for organ in ['Task02_Heart', 'Task04_Hippocampus', 'Task05_Prostate']:\n",
    "    label_folder = '../data3_FloatTensor/'+organ+'/labelsTr'\n",
    "    image_folder = '../data3_FloatTensor/'+organ+'/imagesTr'\n",
    "    label_folder_new = '../data4_only_labeltrue/'+organ+'/labelsTr'\n",
    "    image_folder_new = '../data4_only_labeltrue/'+organ+'/imagesTr'\n",
    "\n",
    "    label_files = os.listdir(label_folder)\n",
    "    \n",
    "    for file_name in label_files:\n",
    "        # ラベルデータをロード\n",
    "        label_path = os.path.join(label_folder, file_name)\n",
    "        label_data = torch.load(label_path)\n",
    "    \n",
    "        # 画像データをロード\n",
    "        image_path = os.path.join(image_folder, file_name)\n",
    "        image_data = torch.load(image_path)\n",
    "    \n",
    "        # ラベルが存在するスライスのインデックスを取得\n",
    "        non_empty_slices = torch.any(label_data, dim=(2,3))\n",
    "    \n",
    "        # ラベルが存在するスライスのみのデータを抽出\n",
    "        filtered_labels = label_data[non_empty_slices].unsqueeze(1)\n",
    "        filtered_images = image_data[non_empty_slices].unsqueeze(1)\n",
    "        \n",
    "    \n",
    "        # フィルタリングされたデータを保存\n",
    "        torch.save(filtered_labels, os.path.join(label_folder_new, file_name))\n",
    "        torch.save(filtered_images, os.path.join(image_folder_new, file_name))"
   ]
  },
  {
   "cell_type": "code",
   "execution_count": 60,
   "id": "fad36782-9cd1-4699-9712-86f264b7cd2f",
   "metadata": {},
   "outputs": [
    {
     "data": {
      "text/plain": [
       "torch.Size([66, 1, 320, 320])"
      ]
     },
     "execution_count": 60,
     "metadata": {},
     "output_type": "execute_result"
    }
   ],
   "source": [
    "image_path = '../data4_only_labeltrue/'+'Task02_Heart/imagesTr/la_003.pt'\n",
    "image_data = torch.load(image_path)\n",
    "image_data.size()"
   ]
  },
  {
   "cell_type": "code",
   "execution_count": null,
   "id": "5ff9988e-2f7a-4e89-b06e-4748bed3e6ea",
   "metadata": {},
   "outputs": [],
   "source": []
  }
 ],
 "metadata": {
  "kernelspec": {
   "display_name": "Python 3 (ipykernel)",
   "language": "python",
   "name": "python3"
  },
  "language_info": {
   "codemirror_mode": {
    "name": "ipython",
    "version": 3
   },
   "file_extension": ".py",
   "mimetype": "text/x-python",
   "name": "python",
   "nbconvert_exporter": "python",
   "pygments_lexer": "ipython3",
   "version": "3.10.8"
  }
 },
 "nbformat": 4,
 "nbformat_minor": 5
}
