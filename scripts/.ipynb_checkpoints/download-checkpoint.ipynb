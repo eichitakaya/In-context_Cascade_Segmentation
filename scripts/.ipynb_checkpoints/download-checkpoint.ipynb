{
 "cells": [
  {
   "cell_type": "code",
   "execution_count": 9,
   "id": "2baf92eb-7e2b-418d-9dfd-39fc034431eb",
   "metadata": {},
   "outputs": [
    {
     "name": "stdout",
     "output_type": "stream",
     "text": [
      "Created ZIP file at ../results/expe_20240430_3models/download.zip\n"
     ]
    }
   ],
   "source": [
    "import os\n",
    "import zipfile\n",
    "\n",
    "def zip_folder(folder_path, zip_path):\n",
    "    # ZIPファイルを作成\n",
    "    with zipfile.ZipFile(zip_path, 'w', zipfile.ZIP_DEFLATED) as zipf:\n",
    "        # folder_pathの下のすべてのファイルとディレクトリに対してループ\n",
    "        for root, dirs, files in os.walk(folder_path):\n",
    "            for file in files:\n",
    "                # ZIPファイルにファイルを追加\n",
    "                zipf.write(os.path.join(root, file),\n",
    "                           os.path.relpath(os.path.join(root, file),\n",
    "                                           os.path.join(folder_path, '..')))\n",
    "\n",
    "# 圧縮したいフォルダのパス\n",
    "folder_to_zip = '../results/expe_20240430_3models'\n",
    "\n",
    "# 出力されるZIPファイルのパス\n",
    "output_zip = folder_to_zip + '/download.zip'\n",
    "\n",
    "# フォルダをZIP形式で圧縮\n",
    "zip_folder(folder_to_zip, output_zip)\n",
    "\n",
    "print(f'Created ZIP file at {output_zip}')"
   ]
  },
  {
   "cell_type": "code",
   "execution_count": null,
   "id": "9adfa98d-12cb-496f-8acb-44ae947e8bac",
   "metadata": {},
   "outputs": [],
   "source": []
  }
 ],
 "metadata": {
  "kernelspec": {
   "display_name": "Python 3 (ipykernel)",
   "language": "python",
   "name": "python3"
  },
  "language_info": {
   "codemirror_mode": {
    "name": "ipython",
    "version": 3
   },
   "file_extension": ".py",
   "mimetype": "text/x-python",
   "name": "python",
   "nbconvert_exporter": "python",
   "pygments_lexer": "ipython3",
   "version": "3.10.8"
  }
 },
 "nbformat": 4,
 "nbformat_minor": 5
}
