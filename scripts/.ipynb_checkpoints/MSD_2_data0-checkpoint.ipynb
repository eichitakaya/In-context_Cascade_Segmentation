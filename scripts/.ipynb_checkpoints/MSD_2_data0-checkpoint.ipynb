{
  "nbformat": 4,
  "nbformat_minor": 0,
  "metadata": {
    "colab": {
      "provenance": []
    },
    "kernelspec": {
      "name": "python3",
      "display_name": "Python 3"
    },
    "language_info": {
      "name": "python"
    }
  },
  "cells": [
    {
      "cell_type": "code",
      "execution_count": null,
      "metadata": {
        "colab": {
          "base_uri": "https://localhost:8080/"
        },
        "id": "8_oWIjrzcLkW",
        "outputId": "feb6b4c4-b2a1-45a0-807b-569b2bf150c7"
      },
      "outputs": [
        {
          "output_type": "stream",
          "name": "stdout",
          "text": [
            "Drive already mounted at /content/drive; to attempt to forcibly remount, call drive.mount(\"/content/drive\", force_remount=True).\n"
          ]
        }
      ],
      "source": [
        "from google.colab import drive\n",
        "drive.mount('/content/drive')"
      ]
    },
    {
      "cell_type": "code",
      "source": [
        "import tarfile\n",
        "import os\n",
        "\n",
        "organs = [\"Task02_Heart\", \"Task04_Hippocampus\", \"Task05_Prostate\"]\n",
        "print(len(organs))\n",
        "for n in range(len(organs)):\n",
        "  # ファイルパスを指定\n",
        "  file_path = \"/content/drive/My Drive/Research_AI_lab/UniverSeg/MSD/\"+organs[n]+\".tar\"\n",
        "\n",
        "  # 出力先のフォルダパスを指定 (同じフォルダに保存)\n",
        "  output_folder = \"/content/drive/My Drive/Research_AI_lab/UniverSeg/Data0_original/\"+organs[n]\n",
        "\n",
        "  # .tarファイルを展開\n",
        "  with tarfile.open(file_path, 'r') as tar:\n",
        "      tar.extractall(path=output_folder)\n",
        "      print('ファイルが展開されました。')"
      ],
      "metadata": {
        "colab": {
          "base_uri": "https://localhost:8080/"
        },
        "id": "2xR3961CcgFJ",
        "outputId": "d4df4d58-c8e3-443e-c1ab-117b3f243aa7"
      },
      "execution_count": null,
      "outputs": [
        {
          "output_type": "stream",
          "name": "stdout",
          "text": [
            "3\n",
            "ファイルが展開されました。\n",
            "ファイルが展開されました。\n",
            "ファイルが展開されました。\n"
          ]
        }
      ]
    },
    {
      "cell_type": "code",
      "source": [],
      "metadata": {
        "id": "y2LnetDUdMSw"
      },
      "execution_count": null,
      "outputs": []
    }
  ]
}