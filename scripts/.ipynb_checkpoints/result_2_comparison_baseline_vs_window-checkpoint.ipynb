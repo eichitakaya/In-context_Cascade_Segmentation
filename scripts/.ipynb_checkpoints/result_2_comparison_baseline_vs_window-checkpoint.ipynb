{
 "cells": [
  {
   "cell_type": "code",
   "execution_count": 68,
   "id": "c6578a3d-f0c8-4972-bd87-ba9bd9fbba15",
   "metadata": {},
   "outputs": [
    {
     "name": "stdout",
     "output_type": "stream",
     "text": [
      "\u001b[33mWARNING: Running pip as the 'root' user can result in broken permissions and conflicting behaviour with the system package manager. It is recommended to use a virtual environment instead: https://pip.pypa.io/warnings/venv\u001b[0m\u001b[33m\n",
      "\u001b[0m\n",
      "\u001b[1m[\u001b[0m\u001b[34;49mnotice\u001b[0m\u001b[1;39;49m]\u001b[0m\u001b[39;49m A new release of pip available: \u001b[0m\u001b[31;49m22.2.2\u001b[0m\u001b[39;49m -> \u001b[0m\u001b[32;49m24.0\u001b[0m\n",
      "\u001b[1m[\u001b[0m\u001b[34;49mnotice\u001b[0m\u001b[1;39;49m]\u001b[0m\u001b[39;49m To update, run: \u001b[0m\u001b[32;49mpip install --upgrade pip\u001b[0m\n"
     ]
    }
   ],
   "source": [
    "!pip install -q --proxy=http://proxy.l2.med.tohoku.ac.jp:8080 scipy"
   ]
  },
  {
   "cell_type": "code",
   "execution_count": 89,
   "id": "7c5ec851-d311-4c37-aad7-1cb700b16513",
   "metadata": {},
   "outputs": [],
   "source": [
    "import math\n",
    "import itertools\n",
    "\n",
    "from tqdm.auto import tqdm\n",
    "import numpy as np\n",
    "import matplotlib.pyplot as plt\n",
    "\n",
    "import einops as E\n",
    "import torch\n",
    "import torch.nn.functional as F\n",
    "\n",
    "import os\n",
    "from scipy.stats import f_oneway"
   ]
  },
  {
   "cell_type": "markdown",
   "id": "72bff6e1-cfe5-417d-b18e-0f4c6acd5040",
   "metadata": {},
   "source": [
    "# Statistics"
   ]
  },
  {
   "cell_type": "code",
   "execution_count": 136,
   "id": "451ec60f-902b-4675-9b96-3391ee022d78",
   "metadata": {},
   "outputs": [],
   "source": [
    "organ = 'Task02_Heart'\n",
    "organ = 'Task05_Prostate'"
   ]
  },
  {
   "cell_type": "code",
   "execution_count": 137,
   "id": "5dff5772-7b51-4a4b-aaf7-c1db900c1b61",
   "metadata": {},
   "outputs": [],
   "source": [
    "file_name = os.listdir(os.path.join(\"../results/expe_20240430_windowall/\", organ))\n",
    "file_name_window = []\n",
    "file_name_baseline = []\n",
    "file_name_windowall = []\n",
    "for f in file_name:\n",
    "    if len(f) == 3:\n",
    "        file_name_baseline.append(os.path.join(\"../results/expe_20240430_baseline/\", organ, f))\n",
    "        file_name_window.append(os.path.join(\"../results/expe_20240426/\", organ, f))\n",
    "        file_name_windowall.append(os.path.join(\"../results/expe_20240430_windowall/\", organ, f))"
   ]
  },
  {
   "cell_type": "code",
   "execution_count": 138,
   "id": "469c8370-ae07-4914-b71a-98c5ffd49223",
   "metadata": {},
   "outputs": [
    {
     "name": "stdout",
     "output_type": "stream",
     "text": [
      "0.798541221767664 0.856043828651309 0.8723813618222872\n",
      "0.6968309597215718 0.7463045309401221 0.7453302737118469\n",
      "0.673482440057255 0.7071030572766349 0.7077890414567221\n",
      "0.657635571482854 0.7007541809326563 0.7110420434902875\n",
      "0.5010773153561685 0.55640036938712 0.5583039097901847\n",
      "0.8138487812800285 0.8064485576290351 0.8133803174281732\n",
      "0.5834383889077566 0.5904345927903285 0.5927082175532212\n",
      "0.691960914267434 0.6898263698650731 0.696669016033411\n",
      "0.701800668217016 0.762926420422666 0.7682503403136225\n",
      "0.7147359790073501 0.7316329822772079 0.7414286943773428\n",
      "0.7495677180743466 0.8011750573602815 0.8147838356283804\n",
      "0.7039983208690371 0.7239707303898675 0.7328699018274035\n",
      "0.590651616535999 0.6572003123033178 0.6756760905404667\n",
      "0.7919612087227486 0.7795931485655544 0.7972046743546214\n",
      "0.6423320881613008 0.6335159695737964 0.6423011829482985\n",
      "0.7726970593134562 0.8045860141515732 0.8070779154698055\n",
      "0.6924825999471876 0.7321816879842017 0.7276079043745994\n",
      "0.6124354324702705 0.6413667611245598 0.64526869738031\n",
      "0.6265131013975902 0.6242671438577501 0.6406591857698831\n",
      "0.6522622548250688 0.7125048253995677 0.7104637800819344\n",
      "0.6914958526690801 0.6906426747639974 0.6989345828692118\n",
      "0.5783025897813566 0.6238779448480769 0.6298307419161905\n",
      "0.5544734723865986 0.5688275285065174 0.5679692655801774\n",
      "0.6313174077524588 0.6560102994911946 0.6641236031939696\n",
      "0.6085992910500083 0.648044014615672 0.6487364495793978\n",
      "0.6006382274356755 0.6750188422473994 0.6622929917817766\n",
      "0.6169264942520496 0.6698960172520443 0.6852900894979636\n",
      "0.6076590087678697 0.6549656612591611 0.6662735044956207\n",
      "0.7233686638729913 0.7566683320772081 0.7552056234507334\n",
      "0.6233328846948487 0.62154575143719 0.6333622663503602\n",
      "0.6445004863043626 0.6819688411222564 0.6884436493118604\n",
      "0.663678829846057 0.6978096155280417 0.6986590398306196\n",
      "[0.798541221767664, 0.6968309597215718, 0.673482440057255, 0.657635571482854, 0.5010773153561685, 0.8138487812800285, 0.5834383889077566, 0.691960914267434, 0.701800668217016, 0.7147359790073501, 0.7495677180743466, 0.7039983208690371, 0.590651616535999, 0.7919612087227486, 0.6423320881613008, 0.7726970593134562, 0.6924825999471876, 0.6124354324702705, 0.6265131013975902, 0.6522622548250688, 0.6914958526690801, 0.5783025897813566, 0.5544734723865986, 0.6313174077524588, 0.6085992910500083, 0.6006382274356755, 0.6169264942520496, 0.6076590087678697, 0.7233686638729913, 0.6233328846948487, 0.6445004863043626, 0.663678829846057] [0.856043828651309, 0.7463045309401221, 0.7071030572766349, 0.7007541809326563, 0.55640036938712, 0.8064485576290351, 0.5904345927903285, 0.6898263698650731, 0.762926420422666, 0.7316329822772079, 0.8011750573602815, 0.7239707303898675, 0.6572003123033178, 0.7795931485655544, 0.6335159695737964, 0.8045860141515732, 0.7321816879842017, 0.6413667611245598, 0.6242671438577501, 0.7125048253995677, 0.6906426747639974, 0.6238779448480769, 0.5688275285065174, 0.6560102994911946, 0.648044014615672, 0.6750188422473994, 0.6698960172520443, 0.6549656612591611, 0.7566683320772081, 0.62154575143719, 0.6819688411222564, 0.6978096155280417] [0.8723813618222872, 0.7453302737118469, 0.7077890414567221, 0.7110420434902875, 0.5583039097901847, 0.8133803174281732, 0.5927082175532212, 0.696669016033411, 0.7682503403136225, 0.7414286943773428, 0.8147838356283804, 0.7328699018274035, 0.6756760905404667, 0.7972046743546214, 0.6423011829482985, 0.8070779154698055, 0.7276079043745994, 0.64526869738031, 0.6406591857698831, 0.7104637800819344, 0.6989345828692118, 0.6298307419161905, 0.5679692655801774, 0.6641236031939696, 0.6487364495793978, 0.6622929917817766, 0.6852900894979636, 0.6662735044956207, 0.7552056234507334, 0.6333622663503602, 0.6884436493118604, 0.6986590398306196]\n"
     ]
    }
   ],
   "source": [
    "allaverages_baseline = []\n",
    "allaverages_window = []\n",
    "allaverages_windowall = []\n",
    "for n in range(len(file_name_window)):\n",
    "    data_baseline = np.loadtxt(file_name_baseline[n], delimiter=',')\n",
    "    data_window   = np.loadtxt(file_name_window[n], delimiter=',')\n",
    "    data_windowall= np.loadtxt(file_name_windowall[n], delimiter=',')\n",
    "    allaverages_baseline.append(np.nanmean(data_baseline))\n",
    "    allaverages_window.append(np.nanmean(data_window))\n",
    "    allaverages_windowall.append(np.nanmean(data_windowall))\n",
    "    print(np.nanmean(data_baseline), np.nanmean(data_window), np.nanmean(data_windowall))\n",
    "print(allaverages_baseline, allaverages_window, allaverages_windowall)"
   ]
  },
  {
   "cell_type": "code",
   "execution_count": 139,
   "id": "a9060719-24ed-44c7-9f27-2e10c6670479",
   "metadata": {},
   "outputs": [
    {
     "name": "stdout",
     "output_type": "stream",
     "text": [
      "-7.125110360518237 2.6220464464311183e-08\n",
      "-4.869373665101748 1.5610726431071957e-05\n"
     ]
    }
   ],
   "source": [
    "from scipy.stats import ttest_rel\n",
    "t_stat1, t_val1 = ttest_rel(allaverages_baseline, allaverages_window, alternative = 'less')\n",
    "t_stat2, t_val2 = ttest_rel(allaverages_window, allaverages_windowall, alternative = 'less')\n",
    "\n",
    "print(t_stat1, t_val1)\n",
    "print(t_stat2, t_val2)"
   ]
  },
  {
   "cell_type": "markdown",
   "id": "ad8291d6-c927-44ab-8dbb-69122ed62b0b",
   "metadata": {},
   "source": [
    "# 3 model"
   ]
  },
  {
   "cell_type": "code",
   "execution_count": 134,
   "id": "8879233b-f58e-4149-ac4d-cee47a293f3f",
   "metadata": {},
   "outputs": [],
   "source": [
    "organ = 'Task02_Heart'\n",
    "file_name = os.listdir(os.path.join(\"../results/expe_20240430_windowall/\", organ))\n",
    "file_name_window = []\n",
    "file_name_baseline = []\n",
    "file_name_windowall = []\n",
    "file_name_3models = []\n",
    "for f in file_name:\n",
    "    if len(f) == 3:\n",
    "        file_name_window.append(os.path.join(\"../results/expe_20240426/\", organ, f))\n",
    "        file_name_baseline.append(os.path.join(\"../results/expe_20240430_baseline/\", organ, f))\n",
    "        file_name_windowall.append(os.path.join(\"../results/expe_20240430_windowall/\", organ, f))\n",
    "        file_name_3models.append(os.path.join(\"../results/expe_20240430_3models/\", organ, f))"
   ]
  },
  {
   "cell_type": "code",
   "execution_count": 135,
   "id": "a6a3f94b-3011-4d05-b96c-7ab74cf8990b",
   "metadata": {},
   "outputs": [
    {
     "name": "stdout",
     "output_type": "stream",
     "text": [
      "saved\n",
      "saved\n",
      "saved\n",
      "saved\n",
      "saved\n",
      "saved\n",
      "saved\n",
      "saved\n",
      "saved\n",
      "saved\n",
      "saved\n",
      "saved\n",
      "saved\n",
      "saved\n",
      "saved\n",
      "saved\n",
      "saved\n",
      "saved\n",
      "saved\n",
      "saved\n"
     ]
    }
   ],
   "source": [
    "from PIL import Image\n",
    "\n",
    "for n in range(len(file_name_baseline)):\n",
    "    path1 = file_name_baseline[n] + '.png'\n",
    "    path2 = file_name_window[n] + '.png'\n",
    "    path3 = file_name_windowall[n] + '.png'\n",
    "    \n",
    "    # 画像を読み込む\n",
    "    image1 = Image.open(path1)\n",
    "    image2 = Image.open(path2)\n",
    "    image3 = Image.open(path3)\n",
    "    \n",
    "    # 画像のサイズを取得\n",
    "    width1, height1 = image1.size\n",
    "    width2, height2 = image2.size\n",
    "    width3, height3 = image3.size\n",
    "    \n",
    "    # 最大の高さを持つ画像に合わせて他の画像のサイズを調整する\n",
    "    max_height = max(height1, height2, height3)\n",
    "    \n",
    "    # 画像を同じ高さにリサイズする（アスペクト比を保持）\n",
    "    image1 = image1.resize((int(width1 * max_height / height1), max_height), Image.Resampling.LANCZOS)\n",
    "    image2 = image2.resize((int(width2 * max_height / height2), max_height), Image.Resampling.LANCZOS)\n",
    "    image3 = image3.resize((int(width3 * max_height / height3), max_height), Image.Resampling.LANCZOS)\n",
    "    \n",
    "    # 新しい画像の幅を計算\n",
    "    total_width = image1.width + image2.width + image3.width\n",
    "    \n",
    "    # 新しい画像を作成（RGBモード）\n",
    "    new_image = Image.new('RGB', (total_width, max_height))\n",
    "    \n",
    "    # 新しい画像に元の画像を配置\n",
    "    new_image.paste(image1, (0, 0))\n",
    "    new_image.paste(image2, (image1.width, 0))\n",
    "    new_image.paste(image3, (image1.width + image2.width, 0))\n",
    "    \n",
    "    # 新しい画像を保存\n",
    "    new_image.save(file_name_3models[n] + '.png')\n",
    "    print('saved')"
   ]
  },
  {
   "cell_type": "markdown",
   "id": "fa7fa207-0c3b-4575-a92d-21eaf0c4eb70",
   "metadata": {},
   "source": [
    "# 2 model"
   ]
  },
  {
   "cell_type": "code",
   "execution_count": 93,
   "id": "3a32f319-a0b5-4d17-98d4-672dd529e353",
   "metadata": {},
   "outputs": [],
   "source": [
    "organ = 'Task02_Heart'\n",
    "file_name = os.listdir(os.path.join(\"../results/expe_20240430_windowall/\", organ))\n",
    "file_name_window = []\n",
    "file_name_baseline = []\n",
    "file_name_windowall = []\n",
    "file_name_3models = []\n",
    "for f in file_name:\n",
    "    if len(f) == 3:\n",
    "        file_name_window.append(os.path.join(\"../results/expe_20240426/\", organ, f))\n",
    "        file_name_baseline.append(os.path.join(\"../results/expe_20240430_baseline/\", organ, f))\n",
    "        file_name_windowall.append(os.path.join(\"../results/expe_20240430_windowall/\", organ, f))\n",
    "        file_name_3models.append(os.path.join(\"../results/expe_20240430_3models/\", organ, f))"
   ]
  },
  {
   "cell_type": "code",
   "execution_count": 94,
   "id": "93e107d1-df06-4fd5-ac1d-bdf24622dc8b",
   "metadata": {},
   "outputs": [
    {
     "name": "stdout",
     "output_type": "stream",
     "text": [
      "saved\n",
      "saved\n",
      "saved\n",
      "saved\n"
     ]
    }
   ],
   "source": [
    "from PIL import Image\n",
    "\n",
    "for n in range(len(file_name_baseline)):\n",
    "    path1 = file_name_baseline[n] + '.png'\n",
    "    path2 = file_name_window[n] + '.png'\n",
    "    # path3 = file_name_windowall[n] + '.png'\n",
    "    \n",
    "    # 画像を読み込む\n",
    "    image1 = Image.open(path1)\n",
    "    image2 = Image.open(path2)\n",
    "    # image3 = Image.open(path3)\n",
    "    \n",
    "    # 画像のサイズを取得\n",
    "    width1, height1 = image1.size\n",
    "    width2, height2 = image2.size\n",
    "    # width3, height3 = image3.size\n",
    "    \n",
    "    # 最大の高さを持つ画像に合わせて他の画像のサイズを調整する\n",
    "    max_height = max(height1, height2)\n",
    "    \n",
    "    # 画像を同じ高さにリサイズする（アスペクト比を保持）\n",
    "    image1 = image1.resize((int(width1 * max_height / height1), max_height), Image.Resampling.LANCZOS)\n",
    "    image2 = image2.resize((int(width2 * max_height / height2), max_height), Image.Resampling.LANCZOS)\n",
    "    # image3 = image3.resize((int(width3 * max_height / height3), max_height), Image.Resampling.LANCZOS)\n",
    "    \n",
    "    # 新しい画像の幅を計算\n",
    "    total_width = image1.width + image2.width\n",
    "    \n",
    "    # 新しい画像を作成（RGBモード）\n",
    "    new_image = Image.new('RGB', (total_width, max_height))\n",
    "    \n",
    "    # 新しい画像に元の画像を配置\n",
    "    new_image.paste(image1, (0, 0))\n",
    "    new_image.paste(image2, (image1.width, 0))\n",
    "    # new_image.paste(image3, (image1.width + image2.width, 0))\n",
    "    \n",
    "    # 新しい画像を保存\n",
    "    new_image.save(file_name_3models[n] + '.png')\n",
    "    print('saved')"
   ]
  },
  {
   "cell_type": "code",
   "execution_count": null,
   "id": "b3ae181d-8629-4b3b-8a4d-927679e0baaa",
   "metadata": {},
   "outputs": [],
   "source": []
  }
 ],
 "metadata": {
  "kernelspec": {
   "display_name": "Python 3 (ipykernel)",
   "language": "python",
   "name": "python3"
  },
  "language_info": {
   "codemirror_mode": {
    "name": "ipython",
    "version": 3
   },
   "file_extension": ".py",
   "mimetype": "text/x-python",
   "name": "python",
   "nbconvert_exporter": "python",
   "pygments_lexer": "ipython3",
   "version": "3.10.8"
  }
 },
 "nbformat": 4,
 "nbformat_minor": 5
}
